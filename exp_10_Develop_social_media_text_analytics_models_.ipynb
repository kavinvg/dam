{
  "nbformat": 4,
  "nbformat_minor": 0,
  "metadata": {
    "colab": {
      "provenance": []
    },
    "kernelspec": {
      "name": "python3",
      "display_name": "Python 3"
    },
    "language_info": {
      "name": "python"
    }
  },
  "cells": [
    {
      "cell_type": "markdown",
      "source": [
        "Exp 10: Develop social media text analytics models for improving existing product/service by analyzing customer’s reviews/comments"
      ],
      "metadata": {
        "id": "8KzGdhPkRd1N"
      }
    },
    {
      "cell_type": "code",
      "execution_count": 1,
      "metadata": {
        "colab": {
          "base_uri": "https://localhost:8080/"
        },
        "id": "8OaZevkZRC9T",
        "outputId": "92647610-d02e-4ed1-d85f-b696e0c1db1f"
      },
      "outputs": [
        {
          "output_type": "stream",
          "name": "stdout",
          "text": [
            "Mounted at /content/drive\n"
          ]
        },
        {
          "output_type": "stream",
          "name": "stderr",
          "text": [
            "[nltk_data] Downloading package vader_lexicon to /root/nltk_data...\n"
          ]
        },
        {
          "output_type": "stream",
          "name": "stdout",
          "text": [
            "Dataset Overview:\n",
            "   Sr. No    Website    Analysis  \\\n",
            "0    3364   Facebook  Irrelevant   \n",
            "1     352     Amazon     Neutral   \n",
            "2    8312  Microsoft    Negative   \n",
            "3    4371      CS-GO    Negative   \n",
            "4    4433     Google     Neutral   \n",
            "\n",
            "                                                Text  \n",
            "0  I mentioned on Facebook that I was struggling ...  \n",
            "1  BBC News - Amazon boss Jeff Bezos rejects clai...  \n",
            "2  @Microsoft Why do I pay for WORD when it funct...  \n",
            "3  CSGO matchmaking is so full of closet hacking,...  \n",
            "4  Now the President is slapping Americans in the...  \n",
            "Sample Results:\n",
            "                                                Text  \\\n",
            "0  I mentioned on Facebook that I was struggling ...   \n",
            "1  BBC News - Amazon boss Jeff Bezos rejects clai...   \n",
            "2  @Microsoft Why do I pay for WORD when it funct...   \n",
            "3  CSGO matchmaking is so full of closet hacking,...   \n",
            "4  Now the President is slapping Americans in the...   \n",
            "\n",
            "                                        cleaned_text predicted_sentiment  \n",
            "0  i mentioned on facebook that i was struggling ...            Negative  \n",
            "1  bbc news  amazon boss jeff bezos rejects claim...             Neutral  \n",
            "2   why do i pay for word when it functions so po...            Negative  \n",
            "3  csgo matchmaking is so full of closet hacking ...             Neutral  \n",
            "4  now the president is slapping americans in the...            Positive  \n"
          ]
        }
      ],
      "source": [
        "from google.colab import drive\n",
        "drive.mount('/content/drive')\n",
        "import pandas as pd\n",
        "import nltk\n",
        "from nltk.sentiment.vader import SentimentIntensityAnalyzer\n",
        "import re\n",
        "from sklearn.model_selection import train_test_split\n",
        "from sklearn.metrics import accuracy_score, classification_report\n",
        "\n",
        "nltk.download('vader_lexicon')\n",
        "\n",
        "sid = SentimentIntensityAnalyzer()\n",
        "\n",
        "file_path = '/content/twitter_validation.csv'\n",
        "df = pd.read_csv(file_path)\n",
        "\n",
        "print(\"Dataset Overview:\")\n",
        "print(df.head())\n",
        "\n",
        "def preprocess_text(text):\n",
        "    text = re.sub(r\"http\\S+|www\\S+|@\\w+\", \"\", text)\n",
        "    text = re.sub(r\"[^a-zA-Z\\s]\", \"\", text)\n",
        "    text = text.lower()\n",
        "    return text\n",
        "\n",
        "df['cleaned_text'] = df['Text'].apply(preprocess_text)\n",
        "\n",
        "def analyze_sentiment(text):\n",
        "    sentiment_scores = sid.polarity_scores(text)\n",
        "    if sentiment_scores['compound'] >= 0.05:\n",
        "        return \"Positive\"\n",
        "    elif sentiment_scores['compound'] <= -0.05:\n",
        "        return \"Negative\"\n",
        "    else:\n",
        "        return \"Neutral\"\n",
        "\n",
        "df['predicted_sentiment'] = df['cleaned_text'].apply(analyze_sentiment)\n",
        "\n",
        "if 'label' in df.columns:\n",
        "    df['label'] = df['label'].map({0: \"Negative\", 1: \"Positive\"})\n",
        "    print(\"Classification Report:\")\n",
        "    print(classification_report(df['label'], df['predicted_sentiment']))\n",
        "\n",
        "X_train, X_test, y_train, y_test = train_test_split(\n",
        "    df['cleaned_text'], df['predicted_sentiment'], test_size=0.2, random_state=42\n",
        ")\n",
        "\n",
        "print(\"Sample Results:\")\n",
        "print(df[['Text', 'cleaned_text', 'predicted_sentiment']].head()) # Changed 'review' to 'text' here as well"
      ]
    }
  ]
}