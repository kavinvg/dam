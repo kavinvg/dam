{
  "nbformat": 4,
  "nbformat_minor": 0,
  "metadata": {
    "colab": {
      "provenance": []
    },
    "kernelspec": {
      "name": "python3",
      "display_name": "Python 3"
    },
    "language_info": {
      "name": "python"
    }
  },
  "cells": [
    {
      "cell_type": "markdown",
      "source": [
        "Exp 3: Data Cleaning and Storage – Preprocess, filter and store social media data for business. (Using Python, MongoDB, R, etc.)"
      ],
      "metadata": {
        "id": "_jkjP4MgOEhF"
      }
    },
    {
      "cell_type": "code",
      "execution_count": 1,
      "metadata": {
        "id": "oFktfIcgNYY6"
      },
      "outputs": [],
      "source": [
        "import requests\n",
        "from bs4 import BeautifulSoup\n",
        "import re\n",
        "\n",
        "url = 'https://medium.com/tag/technology'\n",
        "headers = {'User-Agent': 'Mozilla/5.0'}\n",
        "r = requests.get(url, headers=headers)\n",
        "soup = BeautifulSoup(r.content, 'html.parser')\n",
        "\n",
        "titles = soup.find_all('h2')\n",
        "clean_titles = []\n",
        "\n",
        "for t in titles:\n",
        "    title = t.text.strip().lower()\n",
        "    title = re.sub(r'[^a-zA-Z0-9 ]', '', title)\n",
        "    if title and title not in clean_titles:\n",
        "        clean_titles.append(title)\n",
        "\n",
        "with open('cleaned_files.txt', 'w', encoding='utf-8') as f:\n",
        "    f.write(\"\\n\".join(clean_titles))"
      ]
    }
  ]
}