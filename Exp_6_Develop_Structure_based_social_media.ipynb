{
  "nbformat": 4,
  "nbformat_minor": 0,
  "metadata": {
    "colab": {
      "provenance": []
    },
    "kernelspec": {
      "name": "python3",
      "display_name": "Python 3"
    },
    "language_info": {
      "name": "python"
    }
  },
  "cells": [
    {
      "cell_type": "markdown",
      "source": [
        "Exp 6: Develop Structure based social media analytics model for any business. (e.g. Structure Based Models - community detection, influence analysis)"
      ],
      "metadata": {
        "id": "JXyuoJLyQThd"
      }
    },
    {
      "cell_type": "code",
      "execution_count": 1,
      "metadata": {
        "colab": {
          "base_uri": "https://localhost:8080/",
          "height": 533
        },
        "id": "z9J_x4X-QQsi",
        "outputId": "249cb539-26f2-4056-deae-38c37eccfa29"
      },
      "outputs": [
        {
          "output_type": "stream",
          "name": "stdout",
          "text": [
            "Graph Name: Social Media Network\n"
          ]
        },
        {
          "output_type": "display_data",
          "data": {
            "text/plain": [
              "<Figure size 640x480 with 1 Axes>"
            ],
            "image/png": "[encoded data removed]"
          },
          "metadata": {}
        }
      ],
      "source": [
        "import networkx as nx\n",
        "import matplotlib.pyplot as plt\n",
        "G = nx.Graph()\n",
        "G.graph['name'] = \"Social Media Network\"\n",
        "print(\"Graph Name:\", G.graph['name'])\n",
        "G.add_nodes_from(['a', 'b', 'c'])\n",
        "G.add_edge('a', 'b')\n",
        "G.add_edge('a', 'c')\n",
        "G.edges()\n",
        "degree = nx.degree_centrality(G)\n",
        "betweenness = nx.betweenness_centrality(G)\n",
        "closeness = nx.closeness_centrality(G)\n",
        "eigenvector = nx.eigenvector_centrality(G)\n",
        "nx.draw(G, with_labels=True, node_color='lightblue', node_size=2000, font_size=10)\n",
        "plt.show()"
      ]
    }
  ]
}